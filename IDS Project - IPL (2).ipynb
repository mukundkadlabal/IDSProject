{
 "cells": [
  {
   "cell_type": "code",
   "execution_count": 31,
   "metadata": {
    "scrolled": true
   },
   "outputs": [],
   "source": [
    "#Data cleaning"
   ]
  },
  {
   "cell_type": "code",
   "execution_count": 8,
   "metadata": {},
   "outputs": [],
   "source": [
    "import pandas as pd\n",
    "import numpy as np\n",
    "\n",
    "\n",
    "data = pd.read_csv(\"D:\\yashp\\DDownloads\\matches.csv\")\n",
    "\n",
    "#Data cleaning\n",
    "for i in range (0,len(data.index)):\n",
    "    for team_column in ['team1', 'team2', 'toss_winner', 'winner']:\n",
    "        \n",
    "        team_name = data.loc[i, team_column]\n",
    "    \n",
    "        if(team_name == 'Rising Pune Supergiants'):\n",
    "            data.loc[i, team_column] = \"Rising Pune Supergiant\""
   ]
  },
  {
   "cell_type": "code",
   "execution_count": null,
   "metadata": {},
   "outputs": [],
   "source": [
    "#Descriptive Analysis "
   ]
  },
  {
   "cell_type": "code",
   "execution_count": 9,
   "metadata": {},
   "outputs": [
    {
     "data": {
      "text/plain": [
       "{'Sunrisers Hyderabad': 42,\n",
       " 'Rising Pune Supergiant': 15,\n",
       " 'Kolkata Knight Riders': 77,\n",
       " 'Kings XI Punjab': 70,\n",
       " 'Royal Challengers Bangalore': 73,\n",
       " 'Mumbai Indians': 92,\n",
       " 'Delhi Daredevils': 62,\n",
       " 'Gujarat Lions': 13,\n",
       " 'Chennai Super Kings': 79,\n",
       " 'Rajasthan Royals': 63,\n",
       " 'Deccan Chargers': 29,\n",
       " 'Pune Warriors': 12,\n",
       " 'Kochi Tuskers Kerala': 6}"
      ]
     },
     "execution_count": 9,
     "metadata": {},
     "output_type": "execute_result"
    }
   ],
   "source": [
    "#Finding wins for each team\n",
    "#TODO: Delete NaN data\n",
    "\n",
    "wins={}\n",
    "for winner in data.winner:\n",
    "    if pd.isnull(winner):\n",
    "        continue\n",
    "    if winner not in wins:\n",
    "        wins[winner]=0\n",
    "    wins[winner]+=1\n",
    "wins"
   ]
  },
  {
   "cell_type": "code",
   "execution_count": 2,
   "metadata": {},
   "outputs": [
    {
     "data": {
      "image/png": "[encoded data removed]",
      "text/plain": [
       "<Figure size 432x288 with 1 Axes>"
      ]
     },
     "metadata": {
      "needs_background": "light"
     },
     "output_type": "display_data"
    }
   ],
   "source": [
    "import matplotlib.pyplot as plt\n",
    "\n",
    "D = {'SRH': 42,\n",
    " 'RPS': 15,\n",
    " 'KKR': 77,\n",
    " 'KXIP': 70,\n",
    " 'RCB': 73,\n",
    " 'MI': 92,\n",
    " 'DD': 62,\n",
    " 'GL': 13,\n",
    " 'CSK': 79,\n",
    " 'RR': 63,\n",
    " 'DC': 29,\n",
    " 'PWI': 12,\n",
    " 'KTK': 6}\n",
    "\n",
    "plt.bar(range(len(D)), list(D.values()), align='center')\n",
    "plt.xticks(range(len(D)), list(D.keys()))\n",
    "plt.show()"
   ]
  },
  {
   "cell_type": "code",
   "execution_count": 33,
   "metadata": {},
   "outputs": [
    {
     "name": "stdout",
     "output_type": "stream",
     "text": [
      "44.992050874403816 55.00794912559619\n"
     ]
    },
    {
     "data": {
      "text/plain": [
       "{'Hyderabad': {'bat': 23, 'bowl': 26},\n",
       " 'Pune': {'bat': 17, 'bowl': 15},\n",
       " 'Rajkot': {'bat': 3, 'bowl': 7},\n",
       " 'Indore': {'bat': 1, 'bowl': 4},\n",
       " 'Bangalore': {'bat': 9, 'bowl': 57},\n",
       " 'Mumbai': {'bat': 34, 'bowl': 51},\n",
       " 'Kolkata': {'bat': 28, 'bowl': 33},\n",
       " 'Delhi': {'bat': 26, 'bowl': 34},\n",
       " 'Chandigarh': {'bat': 16, 'bowl': 30},\n",
       " 'Kanpur': {'bat': 0, 'bowl': 4},\n",
       " 'Jaipur': {'bat': 14, 'bowl': 19},\n",
       " 'Chennai': {'bat': 34, 'bowl': 14},\n",
       " 'Cape Town': {'bat': 4, 'bowl': 3},\n",
       " 'Port Elizabeth': {'bat': 7, 'bowl': 0},\n",
       " 'Durban': {'bat': 10, 'bowl': 5},\n",
       " 'Centurion': {'bat': 6, 'bowl': 6},\n",
       " 'East London': {'bat': 3, 'bowl': 0},\n",
       " 'Johannesburg': {'bat': 2, 'bowl': 6},\n",
       " 'Kimberley': {'bat': 2, 'bowl': 1},\n",
       " 'Bloemfontein': {'bat': 1, 'bowl': 1},\n",
       " 'Ahmedabad': {'bat': 6, 'bowl': 6},\n",
       " 'Cuttack': {'bat': 2, 'bowl': 5},\n",
       " 'Nagpur': {'bat': 2, 'bowl': 1},\n",
       " 'Dharamsala': {'bat': 1, 'bowl': 8},\n",
       " 'Kochi': {'bat': 2, 'bowl': 3},\n",
       " 'Visakhapatnam': {'bat': 5, 'bowl': 6},\n",
       " 'Raipur': {'bat': 3, 'bowl': 3},\n",
       " 'Ranchi': {'bat': 3, 'bowl': 4},\n",
       " 'Abu Dhabi': {'bat': 4, 'bowl': 3},\n",
       " 'Sharjah': {'bat': 2, 'bowl': 4}}"
      ]
     },
     "execution_count": 33,
     "metadata": {},
     "output_type": "execute_result"
    }
   ],
   "source": [
    "#Win % batting first and bowling first overall - plot pie chart\n",
    "#wins by venue - plot grouped bar graph\n",
    "\n",
    "win_perc={'bat':0,'bowl':0}\n",
    "\n",
    "venues={}\n",
    "\n",
    "for index,row in data.iterrows():\n",
    "    if pd.isnull(row['city']):\n",
    "        continue\n",
    "    if row['city'] not in venues:\n",
    "        venues[row['city']]={'bat':0,'bowl':0}\n",
    "    \n",
    "    if row['toss_winner']==row['winner']:\n",
    "        if row['toss_decision']=='bat':\n",
    "            win_perc['bat']+=1\n",
    "            venues[row['city']]['bat']+=1\n",
    "        else:\n",
    "            win_perc['bowl']+=1\n",
    "            venues[row['city']]['bowl']+=1\n",
    "    else:\n",
    "        if row['toss_decision']=='bat':\n",
    "            win_perc['bowl']+=1\n",
    "            venues[row['city']]['bat']+=1\n",
    "        else:\n",
    "            win_perc['bat']+=1\n",
    "            venues[row['city']]['bowl']+=1\n",
    "\n",
    "\n",
    "win_perc_bat=win_perc['bat']/(win_perc['bat']+win_perc['bowl'])*100\n",
    "win_perc_bowl=win_perc['bowl']/(win_perc['bat']+win_perc['bowl'])*100\n",
    "\n",
    "\n",
    "print(win_perc_bat,win_perc_bowl)\n",
    "venues"
   ]
  },
  {
   "cell_type": "code",
   "execution_count": 8,
   "metadata": {},
   "outputs": [
    {
     "data": {
      "image/png": "[encoded data removed]",
      "text/plain": [
       "<Figure size 432x288 with 1 Axes>"
      ]
     },
     "metadata": {
      "needs_background": "light"
     },
     "output_type": "display_data"
    }
   ],
   "source": [
    "import pandas as pd\n",
    "import matplotlib.pyplot as plt\n",
    "\n",
    "df = pd.DataFrame([['bat 1st','Hyd',23],['bat 1st','Pune',17],['bat 1st','Rajkot',3],\n",
    "                   ['bat 1st','Indore',1],['bat 1st','Blore',9],['bat 1st','Mumbai',34],\n",
    "                   ['bat 1st','Kolkata',28],['bat 1st','Delhi',26],['bat 1st','Chandigarh',16],\n",
    "                   ['bat 1st','Kanpur',0],['bat 1st','Jaipur',14],['bat 1st','Chennai',34],\n",
    "                   ['bat 1st','Cape Town',4],['bat 1st','Port Elizabeth',7],['bat 1st','Durban',10],\n",
    "                   ['bat 1st','Centurion',6],['bat 1st','East London',3],['bat 1st','Johannesburg',2],\n",
    "                   ['bat 1st','Kimberley',2],['bat 1st','Bloemfontein',1],['bat 1st','Ahmedabad',6],\n",
    "                   ['bat 1st','Cuttack',2],['bat 1st','Nagpur',2],['bat 1st','Dharamsala',1],\n",
    "                   ['bat 1st','Kochi',2],['bat 1st','Visakhapatnam',5],['bat 1st','Raipur',3],\n",
    "                   ['bat 1st','Ranchi',3],['bat 1st','Abu Dhabi',4],['bat 1st','Sharjah',2],\n",
    "                   \n",
    "                   ['bowl 1st','Hyd',26],['bowl 1st','Pune',15],['bowl 1st','Rajkot',7],\n",
    "                   ['bowl 1st','Indore',4],['bowl 1st','Blore',57],['bowl 1st','Mumbai',51],\n",
    "                   ['bowl 1st','Kolkata',33],['bowl 1st','Delhi',34],['bowl 1st','Chandigarh',30],\n",
    "                   ['bowl 1st','Kanpur',4],['bowl 1st','Jaipur',19],['bowl 1st','Chennai',14],\n",
    "                   ['bowl 1st','Cape Town',3],['bowl 1st','Port Elizabeth',0],['bowl 1st','Durban',5],\n",
    "                   ['bowl 1st','Centurion',6],['bowl 1st','East London',0],['bowl 1st','Johannesburg',6],\n",
    "                   ['bowl 1st','Kimberley',1],['bowl 1st','Bloemfontein',1],['bowl 1st','Ahmedabad',6],\n",
    "                   ['bowl 1st','Cuttack',5],['bowl 1st','Nagpur',1],['bowl 1st','Dharamsala',8],\n",
    "                   ['bowl 1st','Kochi',3],['bowl 1st','Visakhapatnam',6],['bowl 1st','Raipur',3],\n",
    "                   ['bowl 1st','Ranchi',4],['bowl 1st','Abu Dhabi',3],['bowl 1st','Sharjah',4]],columns=['Toss','cities','val'])\n",
    "\n",
    "df.pivot(\"cities\", \"Toss\", \"val\").plot(kind='bar')\n",
    "\n",
    "plt.show()"
   ]
  },
  {
   "cell_type": "code",
   "execution_count": 4,
   "metadata": {},
   "outputs": [
    {
     "data": {
      "image/png": "[encoded data removed]",
      "text/plain": [
       "<Figure size 432x288 with 1 Axes>"
      ]
     },
     "metadata": {},
     "output_type": "display_data"
    }
   ],
   "source": [
    "import matplotlib.pyplot as plt\n",
    " \n",
    "# Data to plot\n",
    "labels = 'win% batting 1st', 'win% bowling 1st'\n",
    "sizes = [45,55]\n",
    "colors = [ 'lightcoral', 'lightskyblue']\n",
    "explode = (0,0.1)  # explode 2nd slice\n",
    " \n",
    "# Plot\n",
    "plt.pie(sizes, explode=explode, labels=labels, colors=colors,\n",
    "        autopct='%1.1f%%', shadow=True, startangle=140)\n",
    " \n",
    "plt.axis('equal')\n",
    "plt.show()"
   ]
  },
  {
   "cell_type": "code",
   "execution_count": 19,
   "metadata": {},
   "outputs": [
    {
     "name": "stdout",
     "output_type": "stream",
     "text": [
      "[3, 3, 3, 3, 4, 4, 5, 5, 5, 5, 5, 5, 6, 6, 6, 6, 7, 7, 7, 7, 7, 7, 8, 8, 8, 8, 9, 9, 9, 9, 9, 9, 9, 10]\n",
      "[2, 3, 3, 4, 4, 5, 5, 6, 6, 6, 6, 6, 6, 6, 6, 6, 7, 7, 7, 7, 7, 7, 7, 7, 8, 8, 9, 9, 10]\n",
      "[4, 5, 5, 5, 5, 5, 5, 6, 6, 6, 6, 6, 6, 7, 7, 7, 7, 7, 7, 8, 8, 8, 8, 9, 9, 9, 9, 10]\n",
      "[3, 3, 4, 4, 4, 4, 5, 5, 6, 6, 6, 6, 6, 6, 6, 6, 7, 7, 7, 7, 7, 7, 8, 8, 8, 8, 8, 8, 8, 8, 8, 8, 8, 9, 9, 9, 9, 9, 10]\n",
      "[2, 4, 4, 4, 4, 5, 5, 5, 5, 5, 5, 5, 5, 5, 5, 5, 5, 5, 5, 5, 6, 6, 6, 6, 6, 6, 7, 7, 7, 7, 7, 8, 8, 8, 8, 8, 9, 9, 9, 10]\n",
      "[3, 4, 4, 4, 4, 4, 5, 5, 5, 5, 5, 5, 5, 5, 5, 5, 6, 6, 6, 6, 6, 7, 7, 7, 7, 7, 7, 7, 7, 8, 8, 8, 8, 8, 9, 9, 10]\n",
      "[3, 4, 4, 4, 4, 4, 4, 5, 5, 5, 5, 5, 5, 5, 6, 6, 6, 6, 6, 6, 7, 7, 7, 7, 7, 7, 7, 7, 7, 7, 8, 8, 8, 8, 8, 8, 9]\n",
      "[3, 3, 3, 4, 5, 5, 6, 6, 6, 6, 6, 6, 7, 7, 7, 7, 7, 8, 8, 9, 9, 9, 10]\n",
      "[2, 3, 3, 4, 4, 4, 5, 5, 5, 5, 5, 6, 6, 6, 6, 6, 6, 6, 6, 6, 6, 6, 7, 7, 7, 7, 7, 7, 7, 7, 8, 8, 8, 8, 8, 9, 9, 9, 10]\n",
      "[2, 4, 4, 4, 4, 4, 4, 5, 5, 6, 6, 6, 6, 6, 6, 6, 7, 7, 7, 7, 7, 7, 7, 7, 8, 8, 8, 8, 9, 9, 10, 10]\n"
     ]
    }
   ],
   "source": [
    "#wickets Won by each season\n",
    "wickets2008 = [9, 5, 5, 6, 9, 3, 7, 9, 10, 4, 7, 7, 8, 5, 8, 6, 7, 7, 4, 8, 9, 3, 9, 9, 8, 5, 6, 6, 5, 3, 5, 7, 9, 3] \n",
    "wickets2009 = [10, 8, 7, 6, 6, 5, 5, 6, 3, 6, 9, 9, 7, 7, 3, 7, 7, 6, 8, 2, 6, 7, 6, 7, 7, 4, 4,6, 6]\n",
    "wickets2010 = [5, 7, 6, 8, 10, 5, 7, 7, 5,8, 4, 5, 6, 8, 9, 7, 6, 6, 7, 7, 9, 5, 6, 5, 8, 6, 9, 9]\n",
    "wickets2011 = [8, 6, 8, 7, 6, 9, 6, 4, 9, 8, 8, 3, 8, 7, 7,9,8, 3, 8, 7, 8, 6, 7, 8, 4,9, 5, 6, 9, 6, 4, 8, 6, 7, 10, 8, 5, 6, 4]\n",
    "wickets2012 = [8, 8, 5, 8, 5, 7, 5, 5, 7, 7, 5, 6, 8, 9, 5, 7, 6, 5, 8, 4, 5, 5, 6, 4, 2, 5, 6, 7, 9, 4, 9, 4, 5, 5, 5, 6, 5, 6, 10, 5]\n",
    "wickets2013 = [6, 8, 10, 8, 7, 3, 4, 6, 5,4,7,9,7,5, 5,5,6,8, 4, 7, 7, 8, 6, 7, 5, 7, 9, 8, 5, 5,5,5,7, 6, 5, 4, 4]\n",
    "wickets2014 = [8, 6, 4, 7, 4, 7, 7, 6, 6, 5, 5, 5, 7, 4, 8, 8, 8, 4, 9, 5, 7, 5, 6, 6, 5, 7, 4, 7, 8, 7, 6, 8, 4, 7, 5, 7, 3]\n",
    "wickets2015 = [7, 3, 3, 8, 7, 7, 5, 6, 6, 4, 8, 6, 9, 10, 9, 7, 5, 6, 6, 6, 7, 9, 3]\n",
    "wickets2016 = [9, 9, 5, 6, 7, 8, 8, 3, 6, 7, 7, 6, 6, 10, 5, 6, 2, 6, 3, 8, 5, 8, 7, 5, 7, 5, 6, 7, 7, 8, 7, 9, 6, 6, 4, 6, 6, 4, 4]\n",
    "wickets2017 = [7, 10, 6, 9, 4, 8, 4,8,4,7, 6, 4, 8, 4, 6, 7, 7, 7, 10, 5, 5, 6, 4, 7, 6, 6, 7, 2, 8, 9, 7, 6]\n",
    "# Sorting list of Integers \n",
    "wickets2008.sort() \n",
    "wickets2009.sort()\n",
    "wickets2010.sort()\n",
    "wickets2011.sort()\n",
    "wickets2012.sort()\n",
    "wickets2013.sort()\n",
    "wickets2014.sort()\n",
    "wickets2015.sort()\n",
    "wickets2016.sort()\n",
    "wickets2017.sort()\n",
    "\n",
    "print(wickets2008) \n",
    "print(wickets2009) \n",
    "print(wickets2010) \n",
    "print(wickets2011) \n",
    "print(wickets2012) \n",
    "print(wickets2013) \n",
    "print(wickets2014) \n",
    "print(wickets2015) \n",
    "print(wickets2016) \n",
    "print(wickets2017)"
   ]
  },
  {
   "cell_type": "code",
   "execution_count": 20,
   "metadata": {},
   "outputs": [
    {
     "name": "stdout",
     "output_type": "stream",
     "text": [
      "Percentiles: 25th=6.000, 75th=7.000, IQR=1.000\n",
      "Identified outliers: 8\n",
      "Non-outlier observations: 21\n"
     ]
    }
   ],
   "source": [
    "#outliers have been detected in wickets2009 row\n",
    "#program to detect/remove outliers\n",
    "from numpy.random import seed\n",
    "from numpy.random import randn\n",
    "from numpy import percentile\n",
    "# seed the random number generator\n",
    "seed(1)\n",
    "\n",
    "# generate univariate observations\n",
    "data =[2, 3, 3, 4, 4, 5, 5, 6, 6, 6, 6, 6, 6, 6, 6, 6, 7, 7, 7, 7, 7, 7, 7, 7, 8, 8, 9, 9, 10]\n",
    "\n",
    "# calculate interquartile range\n",
    "q25, q75 = percentile(data, 25), percentile(data, 75)\n",
    "iqr = q75 - q25\n",
    "print('Percentiles: 25th=%.3f, 75th=%.3f, IQR=%.3f' % (q25, q75, iqr))\n",
    "# calculate the outlier cutoff\n",
    "cut_off = iqr * 1.5\n",
    "lower, upper = q25 - cut_off, q75 + cut_off\n",
    "# identify outliers\n",
    "outliers = [x for x in data if x < lower or x > upper]\n",
    "print('Identified outliers: %d' % len(outliers))\n",
    "# remove outliers\n",
    "outliers_removed = [x for x in data if x >= lower and x <= upper]\n",
    "print('Non-outlier observations: %d' % len(outliers_removed))\n"
   ]
  },
  {
   "cell_type": "code",
   "execution_count": 50,
   "metadata": {},
   "outputs": [
    {
     "data": {
      "image/png": "[encoded data removed]",
      "text/plain": [
       "<Figure size 432x288 with 1 Axes>"
      ]
     },
     "metadata": {
      "needs_background": "light"
     },
     "output_type": "display_data"
    }
   ],
   "source": [
    "#after removing 8 outliers from Wickets2009 we have\n",
    "#plot box plot\n",
    "%matplotlib inline\n",
    "import pandas as pd\n",
    "import matplotlib as mp\n",
    "import matplotlib.pyplot as plt\n",
    "\n",
    "wick2008 = [3, 3, 3, 3, 4, 4, 5, 5, 5, 5, 5, 5, 6, 6, 6, 6, 7, 7, 7, 7, 7, 7, 8, 8, 8, 8, 9, 9, 9, 9, 9, 9, 9, 10]\n",
    "wick2009 = [5, 5, 6, 6, 6, 6, 6, 6, 6, 6, 6, 7, 7, 7, 7, 7, 7, 7, 7, 8, 8]\n",
    "wick2010 = [4, 5, 5, 5, 5, 5, 5, 6, 6, 6, 6, 6, 6, 7, 7, 7, 7, 7, 7, 8, 8, 8, 8, 9, 9, 9, 9, 10]\n",
    "wick2011 = [3, 3, 4, 4, 4, 4, 5, 5, 6, 6, 6, 6, 6, 6, 6, 6, 7, 7, 7, 7, 7, 7, 8, 8, 8, 8, 8, 8, 8, 8, 8, 8, 8, 9, 9, 9, 9, 9, 10]\n",
    "wick2012 = [2, 4, 4, 4, 4, 5, 5, 5, 5, 5, 5, 5, 5, 5, 5, 5, 5, 5, 5, 5, 6, 6, 6, 6, 6, 6, 7, 7, 7, 7, 7, 8, 8, 8, 8, 8, 9, 9, 9, 10]\n",
    "wick2013 = [3, 4, 4, 4, 4, 4, 5, 5, 5, 5, 5, 5, 5, 5, 5, 5, 6, 6, 6, 6, 6, 7, 7, 7, 7, 7, 7, 7, 7, 8, 8, 8, 8, 8, 9, 9, 10]\n",
    "wick2014 = [3, 4, 4, 4, 4, 4, 4, 5, 5, 5, 5, 5, 5, 5, 6, 6, 6, 6, 6, 6, 7, 7, 7, 7, 7, 7, 7, 7, 7, 7, 8, 8, 8, 8, 8, 8, 9]\n",
    "wick2015 = [3, 3, 3, 4, 5, 5, 6, 6, 6, 6, 6, 6, 7, 7, 7, 7, 7, 8, 8, 9, 9, 9, 10]\n",
    "wick2016 = [2, 3, 3, 4, 4, 4, 5, 5, 5, 5, 5, 6, 6, 6, 6, 6, 6, 6, 6, 6, 6, 6, 7, 7, 7, 7, 7, 7, 7, 7, 8, 8, 8, 8, 8, 9, 9, 9, 10]\n",
    "wick2017 = [2, 4, 4, 4, 4, 4, 4, 5, 5, 6, 6, 6, 6, 6, 6, 6, 7, 7, 7, 7, 7, 7, 7, 7, 8, 8, 8, 8, 9, 9, 10, 10]\n",
    "\n",
    "wicklist = [wick2008,wick2009,wick2010,wick2011,wick2012,wick2013,wick2014,wick2015,wick2016,wick2017]\n",
    "bp = plt.boxplot(wicklist)\n",
    "plt.title('Box plot for Average wickets won by in a season')\n",
    "plt.xlabel('Season number')\n",
    "plt.ylabel('Average wickets won by')\n",
    "plt.show()\n"
   ]
  },
  {
   "cell_type": "code",
   "execution_count": 34,
   "metadata": {},
   "outputs": [
    {
     "data": {
      "text/plain": [
       "{'Rising Pune Supergiant': 8,\n",
       " 'Kolkata Knight Riders': 44,\n",
       " 'Kings XI Punjab': 28,\n",
       " 'Royal Challengers Bangalore': 35,\n",
       " 'Sunrisers Hyderabad': 17,\n",
       " 'Mumbai Indians': 48,\n",
       " 'Gujarat Lions': 10,\n",
       " 'Delhi Daredevils': 33,\n",
       " 'Chennai Super Kings': 42,\n",
       " 'Rajasthan Royals': 34,\n",
       " 'Deccan Chargers': 19,\n",
       " 'Kochi Tuskers Kerala': 4,\n",
       " 'Pune Warriors': 3}"
      ]
     },
     "execution_count": 34,
     "metadata": {},
     "output_type": "execute_result"
    }
   ],
   "source": [
    "#Finding teams who won the match & toss - bar graph possible\n",
    "wins_when_toss_won={}\n",
    "for index,row in data.iterrows():\n",
    "    if row['toss_winner']==row['winner']:\n",
    "        if row['toss_winner'] not in wins_when_toss_won:\n",
    "            wins_when_toss_won[row['toss_winner']]=0\n",
    "        wins_when_toss_won[row['toss_winner']]+=1\n",
    "wins_when_toss_won"
   ]
  },
  {
   "cell_type": "code",
   "execution_count": 9,
   "metadata": {},
   "outputs": [
    {
     "data": {
      "image/png": "[encoded data removed]",
      "text/plain": [
       "<Figure size 432x288 with 1 Axes>"
      ]
     },
     "metadata": {
      "needs_background": "light"
     },
     "output_type": "display_data"
    }
   ],
   "source": [
    "import matplotlib.pyplot as plt\n",
    "\n",
    "D = {'RPS': 8,\n",
    " 'KKR': 44,\n",
    " 'KXIP': 28,\n",
    " 'RCB': 35,\n",
    " 'SRH': 17,\n",
    " 'MI': 48,\n",
    " 'GL': 10,\n",
    " 'DD': 33,\n",
    " 'CSK': 42,\n",
    " 'RR': 34,\n",
    " 'DC': 19,\n",
    " 'KTK': 4,\n",
    " 'PWI': 3}\n",
    "\n",
    "plt.bar(range(len(D)), list(D.values()), align='center')\n",
    "plt.xticks(range(len(D)), list(D.keys()))\n",
    "plt.show()"
   ]
  },
  {
   "cell_type": "code",
   "execution_count": 35,
   "metadata": {},
   "outputs": [
    {
     "data": {
      "text/plain": [
       "{'2017': 146,\n",
       " '2008': 140,\n",
       " '2009': 92,\n",
       " '2010': 98,\n",
       " '2011': 111,\n",
       " '2012': 86,\n",
       " '2013': 130,\n",
       " '2014': 93,\n",
       " '2015': 138,\n",
       " '2016': 144}"
      ]
     },
     "execution_count": 35,
     "metadata": {},
     "output_type": "execute_result"
    }
   ],
   "source": [
    "#Highest win margin - yearwise\n",
    "#Line graph\n",
    "max_margin={}\n",
    "for index,row in data.iterrows():\n",
    "    if row['date'][:4] not in max_margin:\n",
    "        max_margin[row['date'][:4]]=0\n",
    "    if row['win_by_runs']>max_margin[row['date'][:4]]:\n",
    "        max_margin[row['date'][:4]]=row['win_by_runs']\n",
    "max_margin"
   ]
  },
  {
   "cell_type": "code",
   "execution_count": 10,
   "metadata": {},
   "outputs": [
    {
     "data": {
      "image/png": "[encoded data removed]",
      "text/plain": [
       "<Figure size 432x288 with 1 Axes>"
      ]
     },
     "metadata": {
      "needs_background": "light"
     },
     "output_type": "display_data"
    }
   ],
   "source": [
    "import matplotlib.pyplot as plt\n",
    "x=[2008,2009,2010,2011,2012,2013,2014,2015,2016,2017]\n",
    "y=[146,140,92,98,111, 86,130,93,138,144]\n",
    "plt.plot(x, y)\n",
    "plt.show()"
   ]
  },
  {
   "cell_type": "code",
   "execution_count": 22,
   "metadata": {},
   "outputs": [
    {
     "data": {
      "image/png": "[encoded data removed]",
      "text/plain": [
       "<Figure size 432x288 with 1 Axes>"
      ]
     },
     "metadata": {
      "needs_background": "light"
     },
     "output_type": "display_data"
    }
   ],
   "source": [
    "import matplotlib.pyplot as plt\n",
    "\n",
    "\n",
    "D = {'2008': 30.65,\n",
    " '2009': 29.38,\n",
    " '2010': 32.53,\n",
    " '2011': 34.31,\n",
    " '2012': 29.09,\n",
    " '2013': 30.67,\n",
    " '2014': 31.88,\n",
    " '2015': 30.11,\n",
    " '2016': 29.64,\n",
    " '2017': 29.18,\n",
    " }\n",
    "\n",
    "plt.bar(range(len(D)), list(D.values()), align='center')\n",
    "plt.xticks(range(len(D)), list(D.keys()))\n",
    "plt.title('avg runs won by each year')\n",
    "plt.xlabel('Year')\n",
    "plt.ylabel('Average runs won by')\n",
    "plt.show()"
   ]
  },
  {
   "cell_type": "code",
   "execution_count": 36,
   "metadata": {},
   "outputs": [
    {
     "name": "stdout",
     "output_type": "stream",
     "text": [
      "73 79\n",
      "{'Delhi Daredevils': 12, 'Gujarat Lions': 3, 'Mumbai Indians': 8, 'Deccan Chargers': 5, 'Chennai Super Kings': 7, 'Rajasthan Royals': 8, 'Kolkata Knight Riders': 9, 'Kings XI Punjab': 8, 'Kochi Tuskers Kerala': 2, 'Pune Warriors': 5, 'Sunrisers Hyderabad': 4, 'Rising Pune Supergiant': 2}\n",
      "{'Sunrisers Hyderabad': 6, 'Kings XI Punjab': 12, 'Mumbai Indians': 13, 'Rising Pune Supergiant': 2, 'Kolkata Knight Riders': 11, 'Gujarat Lions': 2, 'Rajasthan Royals': 8, 'Chennai Super Kings': 12, 'Delhi Daredevils': 7, 'Deccan Chargers': 6}\n"
     ]
    }
   ],
   "source": [
    "#wins and losses for rcb against other teams\n",
    "# plot pie chart wins vs loss perc\n",
    "# grouped bar chart - title: RCB vs Other Teams. x-axis different teams. each x-axis element wins and losses for RCB against that team\n",
    "team = 'Royal Challengers Bangalore'\n",
    "rcb_wins_against={}\n",
    "rcb_losses_against={}\n",
    "wins=0\n",
    "losses=0\n",
    "for index,row in data.iterrows():\n",
    "    if row['team1']==team or row['team2']==team:\n",
    "        opp_team = row['team2'] if row['team1']==team else row['team1']\n",
    "        if row['winner']==team:\n",
    "            if opp_team not in rcb_wins_against:\n",
    "                rcb_wins_against[opp_team]=0\n",
    "            rcb_wins_against[opp_team]+=1\n",
    "            wins+=1\n",
    "        else:\n",
    "            if opp_team not in rcb_losses_against:\n",
    "                rcb_losses_against[opp_team]=0\n",
    "            rcb_losses_against[opp_team]+=1\n",
    "            losses+=1\n",
    "print(wins,losses)\n",
    "print(rcb_wins_against)\n",
    "print(rcb_losses_against)"
   ]
  },
  {
   "cell_type": "code",
   "execution_count": 11,
   "metadata": {},
   "outputs": [
    {
     "data": {
      "image/png": "[encoded data removed]",
      "text/plain": [
       "<Figure size 432x288 with 1 Axes>"
      ]
     },
     "metadata": {
      "needs_background": "light"
     },
     "output_type": "display_data"
    }
   ],
   "source": [
    "import pandas as pd\n",
    "import matplotlib.pyplot as plt\n",
    "df = pd.DataFrame([['Matches won by RCB','DD',12],['Matches won by RCB','GL',3],['Matches won by RCB','MI',8],\n",
    "                   ['Matches won by RCB','DC',5],['Matches won by RCB','CSK',7],['Matches won by RCB','RR',8],\n",
    "                   ['Matches won by RCB','KKR',9],['Matches won by RCB','KXIP',8],['Matches won by RCB','KTK',2],\n",
    "                   ['Matches won by RCB','PWI',5],['Matches won by RCB','SRH',4],['Matches won by RCB','RPS',2],\n",
    "                   \n",
    "                   ['Matches Lost by RCB','DD',7],['Matches Lost by RCB','GL',2],['Matches Lost by RCB','MI',13],\n",
    "                   ['Matches Lost by RCB','DC',8],['Matches Lost by RCB','CSK',12],['Matches Lost by RCB','RR',8],\n",
    "                   ['Matches Lost by RCB','KKR',11],['Matches Lost by RCB','KXIP',12],['Matches Lost by RCB','KTK',0],\n",
    "                   ['Matches Lost by RCB','PWI',4],['Matches Lost by RCB','SRH',6],['Matches Lost by RCB','RPS',2]],columns=['Result','Teams','val'])\n",
    "\n",
    "df.pivot(\"Teams\", \"Result\", \"val\").plot(kind='bar')\n",
    "plt.title('Group bar graph for matches won by RCB')\n",
    "plt.ylabel('matches won')\n",
    "\n",
    "plt.show()"
   ]
  },
  {
   "cell_type": "code",
   "execution_count": 37,
   "metadata": {},
   "outputs": [
    {
     "data": {
      "text/plain": [
       "{'batting_first': 9, 'bowling_first': 7}"
      ]
     },
     "execution_count": 37,
     "metadata": {},
     "output_type": "execute_result"
    }
   ],
   "source": [
    "#D/L in whose favour - batting first or chasing\n",
    "#Pie Chart possible\n",
    "dl_stats_wins={'batting_first':0,'bowling_first':0}\n",
    "for index,row in data.iterrows():\n",
    "    if row['dl_applied']:\n",
    "        if row['toss_winner']==row['winner']:\n",
    "            if['toss_decision']=='field':\n",
    "                dl_stats_wins['bowling_first']+=1\n",
    "            else:\n",
    "                dl_stats_wins['batting_first']+=1\n",
    "        else:\n",
    "            if['toss_decision']=='field':\n",
    "                dl_stats_wins['batting_first']+=1\n",
    "            else:\n",
    "                dl_stats_wins['bowling_first']+=1\n",
    "dl_stats_wins"
   ]
  },
  {
   "cell_type": "code",
   "execution_count": 12,
   "metadata": {},
   "outputs": [
    {
     "data": {
      "image/png": "[encoded data removed]",
      "text/plain": [
       "<Figure size 432x288 with 1 Axes>"
      ]
     },
     "metadata": {},
     "output_type": "display_data"
    }
   ],
   "source": [
    "import matplotlib.pyplot as plt\n",
    " \n",
    "# Data to plot\n",
    "labels = 'Matches won by D/L when batting 1st', 'Matches won by by D/L when bowling 1st'\n",
    "sizes = [56.25,43.75]\n",
    "colors = [ 'lightcoral', 'lightskyblue']\n",
    "explode = (0,0)  # explode 2nd slice\n",
    " \n",
    "# Plot\n",
    "plt.pie(sizes, explode=explode, labels=labels, colors=colors,\n",
    "        autopct='%1.1f%%', shadow=True, startangle=140)\n",
    " \n",
    "plt.axis('equal')\n",
    "plt.show()"
   ]
  },
  {
   "cell_type": "code",
   "execution_count": null,
   "metadata": {},
   "outputs": [],
   "source": [
    "#Ttest and Linear Regression"
   ]
  },
  {
   "cell_type": "code",
   "execution_count": 66,
   "metadata": {},
   "outputs": [],
   "source": [
    "# 1st Hypothesis\n",
    "# H0: Average runs won by in the year 2016 is greater than the population mean\n",
    "# H1: Average runs won by in the year 2016 is lesser than the population mean\n",
    "from random import sample\n",
    "runs_2016=[0,0,0,45,0,0,0,0,0,0,0,0,0,0,0,13,10,0,0,0,25,34,1,0,0,27,15,23,0,0,0,7,0,0,0,9,85,0,1,4,0,0,0,144,0,0,80,0,19,82,0,0,0,0,22,0,0,22,0,8]\n",
    "samp=sample(runs_2016,25)"
   ]
  },
  {
   "cell_type": "code",
   "execution_count": 67,
   "metadata": {},
   "outputs": [
    {
     "data": {
      "text/plain": [
       "Ttest_1sampResult(statistic=-3.1389386864782574, pvalue=0.004450808778469965)"
      ]
     },
     "execution_count": 67,
     "metadata": {},
     "output_type": "execute_result"
    }
   ],
   "source": [
    "population_mean=np.mean(runs_2016)\n",
    "stats.ttest_1samp(samp,population_mean)\n",
    "# since pvalue<0.05, H0 can be rejected  "
   ]
  },
  {
   "cell_type": "code",
   "execution_count": 79,
   "metadata": {},
   "outputs": [
    {
     "data": {
      "text/plain": [
       "[5, 5, 10, 7, 6, 5, 5, 7, 5, 8, 5, 5, 5, 9, 5, 4, 6, 8, 7, 7]"
      ]
     },
     "execution_count": 79,
     "metadata": {},
     "output_type": "execute_result"
    }
   ],
   "source": [
    "# 2nd Hypothesis\n",
    "# H0: Average wickets won by in the year 2012 is lesser than population mean\n",
    "# H1: Average wickets won by in the year 2012 is greater than population mean\n",
    "from random import sample\n",
    "from scipy import stats\n",
    "wickets_2012=[2, 4, 4, 4, 4, 5, 5, 5, 5, 5, 5, 5, 5, 5, 5, 5, 5, 5, 5, 5, 6, 6, 6, 6, 6, 6, 7, 7, 7, 7, 7, 8, 8, 8, 8, 8, 9, 9, 9, 10]\n",
    "sampl=sample(wickets_2012,20) \n",
    "sampl"
   ]
  },
  {
   "cell_type": "code",
   "execution_count": 80,
   "metadata": {},
   "outputs": [
    {
     "data": {
      "text/plain": [
       "Ttest_1sampResult(statistic=0.48634818067463553, pvalue=0.6322826699434361)"
      ]
     },
     "execution_count": 80,
     "metadata": {},
     "output_type": "execute_result"
    }
   ],
   "source": [
    "population_mean=np.mean(wickets_2012)\n",
    "stats.ttest_1samp(sampl,population_mean)\n",
    "# since pvalue>0.05, H0 is Plaussible "
   ]
  },
  {
   "cell_type": "code",
   "execution_count": null,
   "metadata": {},
   "outputs": [],
   "source": [
    "#linear Regression for (number of wins for rcb) per year"
   ]
  },
  {
   "cell_type": "code",
   "execution_count": 5,
   "metadata": {},
   "outputs": [
    {
     "data": {
      "text/plain": [
       "LinregressResult(slope=-0.1393939393939394, intercept=287.83030303030307, rvalue=-0.1754090532175509, pvalue=0.6278823767510662, stderr=0.2766054232059158)"
      ]
     },
     "execution_count": 5,
     "metadata": {},
     "output_type": "execute_result"
    }
   ],
   "source": [
    "a = [2008,2009,2010,2011,2012,2013,2014,2015,2016,2017] #years\n",
    "b = [4,9,8,10,8,9,5,8,9,3]                              #number of matches won by RCB in each year\n",
    "from scipy.stats import linregress\n",
    "linregress(a,b)"
   ]
  },
  {
   "cell_type": "code",
   "execution_count": 10,
   "metadata": {},
   "outputs": [
    {
     "data": {
      "text/plain": [
       "{'2017': 3,\n",
       " '2008': 4,\n",
       " '2009': 9,\n",
       " '2010': 8,\n",
       " '2011': 10,\n",
       " '2012': 8,\n",
       " '2013': 9,\n",
       " '2014': 5,\n",
       " '2015': 8,\n",
       " '2016': 9}"
      ]
     },
     "execution_count": 10,
     "metadata": {},
     "output_type": "execute_result"
    }
   ],
   "source": [
    "#Getting Wins Per Year for RCB\n",
    "\n",
    "wins_rcb={}\n",
    "team='Royal Challengers Bangalore'\n",
    "for index,row in data.iterrows():\n",
    "    if row['date'][:4] not in wins_rcb:\n",
    "        wins_rcb[row['date'][:4]]=0\n",
    "    if row['winner']==team:\n",
    "        wins_rcb[row['date'][:4]]+=1\n",
    "wins_rcb\n"
   ]
  },
  {
   "cell_type": "code",
   "execution_count": 5,
   "metadata": {},
   "outputs": [
    {
     "name": "stdout",
     "output_type": "stream",
     "text": [
      "y_hat =  81.62318840580433 + -0.03623188405797462 *x\n"
     ]
    },
    {
     "data": {
      "image/png": "[encoded data removed]",
      "text/plain": [
       "<Figure size 432x288 with 1 Axes>"
      ]
     },
     "metadata": {
      "needs_background": "light"
     },
     "output_type": "display_data"
    }
   ],
   "source": [
    "%matplotlib inline\n",
    "import matplotlib.pyplot as plt\n",
    "from scipy.stats import pearsonr\n",
    "import numpy as np\n",
    "from sklearn.metrics import r2_score\n",
    "import pandas as pd\n",
    "\n",
    "x = np.array([2009,2010,2011,2012,2013,2015,2016])   #years\n",
    "y = np.array([9,8,10,8,9,8,9]) #wins per year for RCB\n",
    "\n",
    "b1 , b0 = np.polyfit(x,y, deg=1)\n",
    "yp = b0 + b1 * x\n",
    "plt.plot(x, y, 'ro')\n",
    "plt.plot(x, yp)\n",
    "print('y_hat = ', b0 , '+', b1,'*x')"
   ]
  },
  {
   "cell_type": "code",
   "execution_count": 3,
   "metadata": {},
   "outputs": [
    {
     "ename": "NameError",
     "evalue": "name 'chisquare' is not defined",
     "output_type": "error",
     "traceback": [
      "\u001b[1;31m---------------------------------------------------------------------------\u001b[0m",
      "\u001b[1;31mNameError\u001b[0m                                 Traceback (most recent call last)",
      "\u001b[1;32m<ipython-input-3-93af0bf89209>\u001b[0m in \u001b[0;36m<module>\u001b[1;34m()\u001b[0m\n\u001b[0;32m      8\u001b[0m \u001b[0my\u001b[0m \u001b[1;33m=\u001b[0m \u001b[0mnp\u001b[0m\u001b[1;33m.\u001b[0m\u001b[0marray\u001b[0m\u001b[1;33m(\u001b[0m\u001b[1;33m[\u001b[0m\u001b[1;36m140\u001b[0m\u001b[1;33m,\u001b[0m\u001b[1;36m92\u001b[0m\u001b[1;33m,\u001b[0m\u001b[1;36m98\u001b[0m\u001b[1;33m,\u001b[0m\u001b[1;36m111\u001b[0m\u001b[1;33m,\u001b[0m\u001b[1;36m86\u001b[0m\u001b[1;33m,\u001b[0m\u001b[1;36m130\u001b[0m\u001b[1;33m,\u001b[0m\u001b[1;36m93\u001b[0m\u001b[1;33m,\u001b[0m\u001b[1;36m138\u001b[0m\u001b[1;33m,\u001b[0m\u001b[1;36m144\u001b[0m\u001b[1;33m,\u001b[0m\u001b[1;36m146\u001b[0m\u001b[1;33m]\u001b[0m\u001b[1;33m)\u001b[0m                 \u001b[1;31m#highest runs won by in each year\u001b[0m\u001b[1;33m\u001b[0m\u001b[0m\n\u001b[0;32m      9\u001b[0m \u001b[1;33m\u001b[0m\u001b[0m\n\u001b[1;32m---> 10\u001b[1;33m \u001b[0mchisquare\u001b[0m\u001b[1;33m(\u001b[0m\u001b[0mx\u001b[0m\u001b[1;33m)\u001b[0m\u001b[1;33m\u001b[0m\u001b[0m\n\u001b[0m\u001b[0;32m     11\u001b[0m \u001b[0mchisquare\u001b[0m\u001b[1;33m(\u001b[0m\u001b[0my\u001b[0m\u001b[1;33m)\u001b[0m\u001b[1;33m\u001b[0m\u001b[0m\n\u001b[0;32m     12\u001b[0m \u001b[0mcont\u001b[0m\u001b[1;33m=\u001b[0m\u001b[0mpd\u001b[0m\u001b[1;33m.\u001b[0m\u001b[0mcrosstab\u001b[0m\u001b[1;33m(\u001b[0m\u001b[0mx\u001b[0m\u001b[1;33m,\u001b[0m\u001b[0my\u001b[0m\u001b[1;33m)\u001b[0m\u001b[1;33m\u001b[0m\u001b[0m\n",
      "\u001b[1;31mNameError\u001b[0m: name 'chisquare' is not defined"
     ]
    }
   ],
   "source": [
    "#Chi plot - tells relation between highest runs won by with year\n",
    "import scipy\n",
    "import pandas as pd\n",
    "import numpy as np\n",
    "\n",
    "\n",
    "x = np.array([2008,2009,2010,2011,2012,2013,2014,2015,2016,2017])   #years\n",
    "y = np.array([140,92,98,111,86,130,93,138,144,146])                 #highest runs won by in each year\n",
    "\n",
    "chisquare(x)\n",
    "chisquare(y)\n",
    "cont=pd.crosstab(x,y)\n",
    "pvalue= scipy.stats.chi2_contingency(cont)[1]\n",
    "pvalue"
   ]
  },
  {
   "cell_type": "code",
   "execution_count": 14,
   "metadata": {},
   "outputs": [
    {
     "name": "stdout",
     "output_type": "stream",
     "text": [
      "y_hat(2019) = 6.393939393939434\n"
     ]
    }
   ],
   "source": [
    "#compute y_hat\n",
    "#we want to find the corresponding y value for the year 2019\n",
    "x=2019\n",
    "y_hat =  287.83030303029534 + -0.13939393939393557 *x\n",
    "print('y_hat(2019) =',y_hat)\n"
   ]
  },
  {
   "cell_type": "code",
   "execution_count": 15,
   "metadata": {},
   "outputs": [
    {
     "name": "stdout",
     "output_type": "stream",
     "text": [
      "Proportion of CIs covering pop mean 0.97\n"
     ]
    },
    {
     "data": {
      "image/png": "[encoded data removed]",
      "text/plain": [
       "<Figure size 1080x360 with 1 Axes>"
      ]
     },
     "metadata": {},
     "output_type": "display_data"
    }
   ],
   "source": [
    "#Finding Confidence Interval\n",
    "import matplotlib.pyplot as plt\n",
    "import pandas as pd\n",
    "import numpy as np\n",
    "from math import sqrt\n",
    "from scipy.stats import norm\n",
    "df = pd.read_csv(\"D:\\yashp\\DDownloads\\matches.csv\")\n",
    "\n",
    "pop_mean = np.mean(df.win_by_runs)\n",
    "\n",
    "def sampling(sample_size, no_of_samples):\n",
    "    sample_means = []\n",
    "    intervals = []\n",
    "    count = 0\n",
    "    for i in range(no_of_samples):\n",
    "        sample = df.win_by_runs.sample(sample_size)\n",
    "        sample_means.append(np.mean(sample))\n",
    "        ci = norm.interval(0.95, np.mean(sample), \n",
    "                            np.std(sample, ddof =1)/sqrt(sample_size))\n",
    "        intervals.append(ci)\n",
    "        if pop_mean >= ci[0] and pop_mean <= ci[1]:\n",
    "            count = count + 1\n",
    "    print('Proportion of CIs covering pop mean', count/no_of_samples)\n",
    "    plt.figure(figsize=(15,5))\n",
    "    plt.hlines(y = pop_mean, xmin = 0, xmax = 100, color ='r')\n",
    "    plt.errorbar(np.arange(0.1, no_of_samples, 1), sample_means, fmt = 'o',\n",
    "                 yerr = [(upp - low)/2 for low, upp in intervals])\n",
    "    plt.show()\n",
    "    \n",
    "sampling(250, 100)"
   ]
  },
  {
   "cell_type": "code",
   "execution_count": null,
   "metadata": {},
   "outputs": [],
   "source": []
  }
 ],
 "metadata": {
  "kernelspec": {
   "display_name": "Python 3",
   "language": "python",
   "name": "python3"
  },
  "language_info": {
   "codemirror_mode": {
    "name": "ipython",
    "version": 3
   },
   "file_extension": ".py",
   "mimetype": "text/x-python",
   "name": "python",
   "nbconvert_exporter": "python",
   "pygments_lexer": "ipython3",
   "version": "3.7.0"
  }
 },
 "nbformat": 4,
 "nbformat_minor": 2
}
